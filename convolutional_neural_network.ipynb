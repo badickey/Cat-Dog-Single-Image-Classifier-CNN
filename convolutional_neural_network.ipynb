{
 "cells": [
  {
   "attachments": {},
   "cell_type": "markdown",
   "metadata": {},
   "source": [
    "# Convolutional Neural Network\n",
    "Dog vs. Cat: Single Image Classification"
   ]
  },
  {
   "attachments": {},
   "cell_type": "markdown",
   "metadata": {},
   "source": [
    "### Importing Libraries"
   ]
  },
  {
   "cell_type": "code",
   "execution_count": 18,
   "metadata": {},
   "outputs": [],
   "source": [
    "import tensorflow as tf\n",
    "from keras.preprocessing.image import ImageDataGenerator"
   ]
  },
  {
   "cell_type": "code",
   "execution_count": 19,
   "metadata": {},
   "outputs": [
    {
     "data": {
      "text/plain": [
       "'2.12.0'"
      ]
     },
     "execution_count": 19,
     "metadata": {},
     "output_type": "execute_result"
    }
   ],
   "source": [
    "tf.__version__"
   ]
  },
  {
   "attachments": {},
   "cell_type": "markdown",
   "metadata": {},
   "source": [
    "### Data Preprocessing"
   ]
  },
  {
   "cell_type": "code",
   "execution_count": 20,
   "metadata": {},
   "outputs": [
    {
     "name": "stdout",
     "output_type": "stream",
     "text": [
      "Found 8000 images belonging to 2 classes.\n"
     ]
    }
   ],
   "source": [
    "# Preprocessing the Training Set\n",
    "# Need to apply transformations to prevent overfitting!!\n",
    "# aka Image Augmentation\n",
    "\n",
    "train_datagen = ImageDataGenerator(rescale=1./255,\n",
    "                                   shear_range=0.2,\n",
    "                                   zoom_range=0.2,\n",
    "                                   horizontal_flip=True)\n",
    "training_set = train_datagen.flow_from_directory('dataset/training_set',\n",
    "                                                 target_size=(64, 64),\n",
    "                                                 batch_size=32,\n",
    "                                                 class_mode='binary')\n",
    "# Two possible outcomes so need binary class mode\n"
   ]
  },
  {
   "cell_type": "code",
   "execution_count": 21,
   "metadata": {},
   "outputs": [
    {
     "name": "stdout",
     "output_type": "stream",
     "text": [
      "Found 2000 images belonging to 2 classes.\n"
     ]
    }
   ],
   "source": [
    "# Preprocessing the Test Set\n",
    "# Need to get the test set data to have the same pixel \n",
    "#   values as the training data\n",
    "\n",
    "test_datagen = ImageDataGenerator(rescale=1./255)\n",
    "\n",
    "test_set = test_datagen.flow_from_directory('dataset/test_set',\n",
    "                                            target_size=(64, 64),\n",
    "                                            batch_size=32,\n",
    "                                            class_mode='binary')\n",
    "# Need same values as the training set object"
   ]
  },
  {
   "cell_type": "markdown",
   "metadata": {},
   "source": [
    "### Building the CNN"
   ]
  },
  {
   "cell_type": "code",
   "execution_count": 22,
   "metadata": {},
   "outputs": [],
   "source": [
    "# Initializing the CNN\n",
    "\n",
    "cnn = tf.keras.models.Sequential()"
   ]
  },
  {
   "cell_type": "code",
   "execution_count": 23,
   "metadata": {},
   "outputs": [],
   "source": [
    "# Convolution Step\n",
    "\n",
    "cnn.add(tf.keras.layers.Conv2D(filters=32,\n",
    "                               kernel_size=3,\n",
    "                               activation='relu',\n",
    "                               input_shape=[64, 64, 3]))"
   ]
  },
  {
   "cell_type": "code",
   "execution_count": 24,
   "metadata": {},
   "outputs": [],
   "source": [
    "# Pooling Step\n",
    "\n",
    "cnn.add(tf.keras.layers.MaxPool2D(pool_size=2,\n",
    "                                  strides=2))"
   ]
  },
  {
   "cell_type": "code",
   "execution_count": 25,
   "metadata": {},
   "outputs": [],
   "source": [
    "# Adding 2nd Convolutional Layer\n",
    "\n",
    "cnn.add(tf.keras.layers.Conv2D(filters=32,\n",
    "                               kernel_size=3,\n",
    "                               activation='relu'))\n",
    "\n",
    "cnn.add(tf.keras.layers.MaxPool2D(pool_size=2,\n",
    "                                  strides=2))"
   ]
  },
  {
   "cell_type": "code",
   "execution_count": 26,
   "metadata": {},
   "outputs": [],
   "source": [
    "# Flattening Step\n",
    "\n",
    "cnn.add(tf.keras.layers.Flatten())"
   ]
  },
  {
   "cell_type": "code",
   "execution_count": 27,
   "metadata": {},
   "outputs": [],
   "source": [
    "# Full Connection Step\n",
    "\n",
    "cnn.add(tf.keras.layers.Dense(units=128, activation='relu'))"
   ]
  },
  {
   "cell_type": "code",
   "execution_count": 28,
   "metadata": {},
   "outputs": [],
   "source": [
    "# Output Layer Step\n",
    "\n",
    "cnn.add(tf.keras.layers.Dense(units=1, activation='sigmoid'))"
   ]
  },
  {
   "attachments": {},
   "cell_type": "markdown",
   "metadata": {},
   "source": [
    "### Training the CNN"
   ]
  },
  {
   "cell_type": "code",
   "execution_count": 29,
   "metadata": {},
   "outputs": [],
   "source": [
    "# Compiling the CNN\n",
    "\n",
    "cnn.compile(optimizer='adam',\n",
    "            loss='binary_crossentropy',\n",
    "            metrics=['accuracy'])"
   ]
  },
  {
   "cell_type": "code",
   "execution_count": 30,
   "metadata": {},
   "outputs": [
    {
     "name": "stdout",
     "output_type": "stream",
     "text": [
      "Epoch 1/30\n"
     ]
    },
    {
     "name": "stderr",
     "output_type": "stream",
     "text": [
      "2023-04-09 23:50:42.405565: I tensorflow/core/common_runtime/executor.cc:1197] [/device:CPU:0] (DEBUG INFO) Executor start aborting (this does not indicate an error and you can ignore this message): INVALID_ARGUMENT: You must feed a value for placeholder tensor 'Placeholder/_0' with dtype int32\n",
      "\t [[{{node Placeholder/_0}}]]\n"
     ]
    },
    {
     "name": "stdout",
     "output_type": "stream",
     "text": [
      "250/250 [==============================] - ETA: 0s - loss: 0.6840 - accuracy: 0.5646"
     ]
    },
    {
     "name": "stderr",
     "output_type": "stream",
     "text": [
      "2023-04-09 23:51:34.629281: I tensorflow/core/common_runtime/executor.cc:1197] [/device:CPU:0] (DEBUG INFO) Executor start aborting (this does not indicate an error and you can ignore this message): INVALID_ARGUMENT: You must feed a value for placeholder tensor 'Placeholder/_0' with dtype int32\n",
      "\t [[{{node Placeholder/_0}}]]\n"
     ]
    },
    {
     "name": "stdout",
     "output_type": "stream",
     "text": [
      "250/250 [==============================] - 60s 235ms/step - loss: 0.6840 - accuracy: 0.5646 - val_loss: 0.6578 - val_accuracy: 0.6300\n",
      "Epoch 2/30\n",
      "250/250 [==============================] - 55s 219ms/step - loss: 0.6405 - accuracy: 0.6399 - val_loss: 0.6059 - val_accuracy: 0.6740\n",
      "Epoch 3/30\n",
      "250/250 [==============================] - 51s 204ms/step - loss: 0.5960 - accuracy: 0.6836 - val_loss: 0.5566 - val_accuracy: 0.7230\n",
      "Epoch 4/30\n",
      "250/250 [==============================] - 51s 205ms/step - loss: 0.5613 - accuracy: 0.7061 - val_loss: 0.5223 - val_accuracy: 0.7405\n",
      "Epoch 5/30\n",
      "250/250 [==============================] - 50s 199ms/step - loss: 0.5191 - accuracy: 0.7424 - val_loss: 0.5328 - val_accuracy: 0.7350\n",
      "Epoch 6/30\n",
      "250/250 [==============================] - 50s 200ms/step - loss: 0.5029 - accuracy: 0.7500 - val_loss: 0.5054 - val_accuracy: 0.7610\n",
      "Epoch 7/30\n",
      "250/250 [==============================] - 50s 199ms/step - loss: 0.4843 - accuracy: 0.7673 - val_loss: 0.5115 - val_accuracy: 0.7545\n",
      "Epoch 8/30\n",
      "250/250 [==============================] - 49s 197ms/step - loss: 0.4641 - accuracy: 0.7778 - val_loss: 0.4789 - val_accuracy: 0.7685\n",
      "Epoch 9/30\n",
      "250/250 [==============================] - 50s 199ms/step - loss: 0.4453 - accuracy: 0.7850 - val_loss: 0.4899 - val_accuracy: 0.7765\n",
      "Epoch 10/30\n",
      "250/250 [==============================] - 50s 200ms/step - loss: 0.4406 - accuracy: 0.7959 - val_loss: 0.4520 - val_accuracy: 0.7970\n",
      "Epoch 11/30\n",
      "250/250 [==============================] - 51s 202ms/step - loss: 0.4157 - accuracy: 0.8065 - val_loss: 0.4717 - val_accuracy: 0.7920\n",
      "Epoch 12/30\n",
      "250/250 [==============================] - 545s 2s/step - loss: 0.4098 - accuracy: 0.8117 - val_loss: 0.4595 - val_accuracy: 0.8030\n",
      "Epoch 13/30\n",
      "250/250 [==============================] - 59s 235ms/step - loss: 0.3787 - accuracy: 0.8303 - val_loss: 0.4616 - val_accuracy: 0.7945\n",
      "Epoch 14/30\n",
      "250/250 [==============================] - 53s 211ms/step - loss: 0.3765 - accuracy: 0.8325 - val_loss: 0.4736 - val_accuracy: 0.7885\n",
      "Epoch 15/30\n",
      "250/250 [==============================] - 53s 210ms/step - loss: 0.3585 - accuracy: 0.8431 - val_loss: 0.4767 - val_accuracy: 0.7965\n",
      "Epoch 16/30\n",
      "250/250 [==============================] - 50s 202ms/step - loss: 0.3483 - accuracy: 0.8460 - val_loss: 0.4958 - val_accuracy: 0.8025\n",
      "Epoch 17/30\n",
      "250/250 [==============================] - 49s 197ms/step - loss: 0.3215 - accuracy: 0.8583 - val_loss: 0.5014 - val_accuracy: 0.7960\n",
      "Epoch 18/30\n",
      "250/250 [==============================] - 49s 195ms/step - loss: 0.3106 - accuracy: 0.8636 - val_loss: 0.5075 - val_accuracy: 0.7930\n",
      "Epoch 19/30\n",
      "250/250 [==============================] - 49s 195ms/step - loss: 0.2980 - accuracy: 0.8752 - val_loss: 0.5576 - val_accuracy: 0.7830\n",
      "Epoch 20/30\n",
      "250/250 [==============================] - 49s 195ms/step - loss: 0.2773 - accuracy: 0.8811 - val_loss: 0.5295 - val_accuracy: 0.7870\n",
      "Epoch 21/30\n",
      "250/250 [==============================] - 49s 196ms/step - loss: 0.2630 - accuracy: 0.8934 - val_loss: 0.5519 - val_accuracy: 0.7925\n",
      "Epoch 22/30\n",
      "250/250 [==============================] - 49s 196ms/step - loss: 0.2479 - accuracy: 0.8960 - val_loss: 0.5513 - val_accuracy: 0.7955\n",
      "Epoch 23/30\n",
      "250/250 [==============================] - 49s 195ms/step - loss: 0.2418 - accuracy: 0.9018 - val_loss: 0.5531 - val_accuracy: 0.8080\n",
      "Epoch 24/30\n",
      "250/250 [==============================] - 48s 193ms/step - loss: 0.2217 - accuracy: 0.9080 - val_loss: 0.6760 - val_accuracy: 0.7680\n",
      "Epoch 25/30\n",
      "250/250 [==============================] - 49s 197ms/step - loss: 0.2098 - accuracy: 0.9139 - val_loss: 0.6110 - val_accuracy: 0.7995\n",
      "Epoch 26/30\n",
      "250/250 [==============================] - 49s 196ms/step - loss: 0.2112 - accuracy: 0.9139 - val_loss: 0.5568 - val_accuracy: 0.8095\n",
      "Epoch 27/30\n",
      "250/250 [==============================] - 49s 195ms/step - loss: 0.2020 - accuracy: 0.9200 - val_loss: 0.5803 - val_accuracy: 0.7965\n",
      "Epoch 28/30\n",
      "250/250 [==============================] - 49s 195ms/step - loss: 0.1818 - accuracy: 0.9312 - val_loss: 0.6091 - val_accuracy: 0.7985\n",
      "Epoch 29/30\n",
      "250/250 [==============================] - 49s 195ms/step - loss: 0.1708 - accuracy: 0.9323 - val_loss: 0.7096 - val_accuracy: 0.7825\n",
      "Epoch 30/30\n",
      "250/250 [==============================] - 49s 196ms/step - loss: 0.1739 - accuracy: 0.9306 - val_loss: 0.6121 - val_accuracy: 0.7960\n"
     ]
    },
    {
     "data": {
      "text/plain": [
       "<keras.callbacks.History at 0x7fa5b2836fd0>"
      ]
     },
     "execution_count": 30,
     "metadata": {},
     "output_type": "execute_result"
    }
   ],
   "source": [
    "# Training and Evaluating the CNN\n",
    "# Choice of epoch size was abritrary here\n",
    "#       and just needed to be \"large enough\"\n",
    "\n",
    "cnn.fit(x=training_set,\n",
    "        validation_data=test_set,\n",
    "        epochs=30)"
   ]
  },
  {
   "attachments": {},
   "cell_type": "markdown",
   "metadata": {},
   "source": [
    "### Single Image Prediction"
   ]
  },
  {
   "cell_type": "code",
   "execution_count": 31,
   "metadata": {},
   "outputs": [],
   "source": [
    "# Importing neccesary libraries\n",
    "\n",
    "import numpy as np\n",
    "from keras.preprocessing import image"
   ]
  },
  {
   "cell_type": "code",
   "execution_count": 34,
   "metadata": {},
   "outputs": [
    {
     "name": "stdout",
     "output_type": "stream",
     "text": [
      "1/1 [==============================] - 0s 47ms/step\n",
      "This image is a  dog\n"
     ]
    }
   ],
   "source": [
    "# Preprocessing of test image / getting into correct format\n",
    "\n",
    "test_image = image.image_utils.load_img('dataset/single_prediction/cat_or_dog_1.jpg', \n",
    "                                        target_size=[64,64])\n",
    "test_image = image.image_utils.img_to_array(test_image)\n",
    "test_image = np.expand_dims(test_image, \n",
    "                            axis = 0)\n",
    "test_image = test_image / 255.0\n",
    "result = cnn.predict(test_image)\n",
    "\n",
    "# Result will output a 0 or 1 so  more encoding is neccesary\n",
    "#training_set.class_indices\n",
    "# {'cats': 0, 'dogs': 1}\n",
    "\n",
    "if result[0][0] > .5:\n",
    "    prediction = 'dog'\n",
    "else:\n",
    "    prediction = 'cat'\n",
    "\n",
    "print('This image is a ', prediction)"
   ]
  },
  {
   "cell_type": "code",
   "execution_count": null,
   "metadata": {},
   "outputs": [],
   "source": []
  }
 ],
 "metadata": {
  "kernelspec": {
   "display_name": "base",
   "language": "python",
   "name": "python3"
  },
  "language_info": {
   "codemirror_mode": {
    "name": "ipython",
    "version": 3
   },
   "file_extension": ".py",
   "mimetype": "text/x-python",
   "name": "python",
   "nbconvert_exporter": "python",
   "pygments_lexer": "ipython3",
   "version": "3.9.12"
  },
  "orig_nbformat": 4
 },
 "nbformat": 4,
 "nbformat_minor": 2
}
